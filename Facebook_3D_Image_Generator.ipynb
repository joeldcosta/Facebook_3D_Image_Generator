{
  "nbformat": 4,
  "nbformat_minor": 0,
  "metadata": {
    "colab": {
      "name": "Facebook_3D_Image_Generator.ipynb",
      "provenance": [],
      "collapsed_sections": []
    },
    "kernelspec": {
      "name": "python3",
      "display_name": "Python 3"
    },
    "language_info": {
      "name": "python"
    }
  },
  "cells": [
    {
      "cell_type": "code",
      "metadata": {
        "colab": {
          "base_uri": "https://localhost:8080/",
          "height": 104
        },
        "id": "qD3RDGtalv8X",
        "outputId": "1262f06a-0c35-4f1f-eb40-42e7fe5bab8a"
      },
      "source": [
        "%%html\n",
        "<a href=\"https://www.buymeacoffee.com/python4fun\" target=\"_blank\"><img src=\"https://img.buymeacoffee.com/button-api/?text=Buy me a Beer&emoji=🍺&slug=python4fun&button_colour=FFDD00&font_colour=000000&font_family=Cookie&outline_colour=000000&coffee_colour=ffffff\" width=20%></a>"
      ],
      "execution_count": 1,
      "outputs": [
        {
          "output_type": "display_data",
          "data": {
            "text/html": [
              "<a href=\"https://www.buymeacoffee.com/python4fun\" target=\"_blank\"><img src=\"https://img.buymeacoffee.com/button-api/?text=Buy me a Beer&emoji=🍺&slug=python4fun&button_colour=FFDD00&font_colour=000000&font_family=Cookie&outline_colour=000000&coffee_colour=ffffff\" width=20%></a>"
            ],
            "text/plain": [
              "<IPython.core.display.HTML object>"
            ]
          },
          "metadata": {
            "tags": []
          }
        }
      ]
    },
    {
      "cell_type": "markdown",
      "metadata": {
        "id": "J92gWY3oTFJB"
      },
      "source": [
        "```\n",
        "   ▄████████    ▄████████  ▄████████    ▄████████ ▀█████████▄   ▄██████▄   ▄██████▄     ▄█   ▄█▄               \n",
        "  ███    ███   ███    ███ ███    ███   ███    ███   ███    ███ ███    ███ ███    ███   ███ ▄███▀               \n",
        "  ███    █▀    ███    ███ ███    █▀    ███    █▀    ███    ███ ███    ███ ███    ███   ███▐██▀                 \n",
        " ▄███▄▄▄       ███    ███ ███         ▄███▄▄▄      ▄███▄▄▄██▀  ███    ███ ███    ███  ▄█████▀                  \n",
        "▀▀███▀▀▀     ▀███████████ ███        ▀▀███▀▀▀     ▀▀███▀▀▀██▄  ███    ███ ███    ███ ▀▀█████▄                  \n",
        "  ███          ███    ███ ███    █▄    ███    █▄    ███    ██▄ ███    ███ ███    ███   ███▐██▄                 \n",
        "  ███          ███    ███ ███    ███   ███    ███   ███    ███ ███    ███ ███    ███   ███ ▀███▄               \n",
        "  ███          ███    █▀  ████████▀    ██████████ ▄█████████▀   ▀██████▀   ▀██████▀    ███   ▀█▀               \n",
        "                                                                                       ▀                       \n",
        " ▄███████▄   ████████▄        ▄█    ▄▄▄▄███▄▄▄▄      ▄████████    ▄██████▄     ▄████████                       \n",
        "██     ▀███  ████   ▀███      ███  ▄██▀▀▀███▀▀▀██▄   ███    ███   ███    ███   ███    ███                      \n",
        "▀      ▄██▀  ████    ███      ███▌ ███   ███   ███   ███    ███   ███    █▀    ███    █▀                       \n",
        "    ██████   ████    ███      ███▌ ███   ███   ███   ███    ███  ▄███         ▄███▄▄▄                          \n",
        "       ▀██▄  ████    ███      ███▌ ███   ███   ███ ▀███████████ ▀▀███ ████▄  ▀▀███▀▀▀                          \n",
        "█       ███  ████    ███      ███  ███   ███   ███   ███    ███   ███    ███   ███    █▄                       \n",
        "██     ▄██▀  ████   ▄███      ███  ███   ███   ███   ███    ███   ███    ███   ███    ███                      \n",
        " ▀███████▀   ████████▀       █▀    ▀█   ███   █▀    ███    █▀    ████████▀    ██████████                       \n",
        "                                                                                                               \n",
        "   ▄██████▄     ▄████████ ███▄▄▄▄      ▄████████    ▄████████    ▄████████     ███      ▄██████▄     ▄████████ \n",
        "  ███    ███   ███    ███ ███▀▀▀██▄   ███    ███   ███    ███   ███    ███ ▀█████████▄ ███    ███   ███    ███ \n",
        "  ███    █▀    ███    █▀  ███   ███   ███    █▀    ███    ███   ███    ███    ▀███▀▀██ ███    ███   ███    ███ \n",
        " ▄███         ▄███▄▄▄     ███   ███  ▄███▄▄▄      ▄███▄▄▄▄██▀   ███    ███     ███   ▀ ███    ███  ▄███▄▄▄▄██▀ \n",
        "▀▀███ ████▄  ▀▀███▀▀▀     ███   ███ ▀▀███▀▀▀     ▀▀███▀▀▀▀▀   ▀███████████     ███     ███    ███ ▀▀███▀▀▀▀▀   \n",
        "  ███    ███   ███    █▄  ███   ███   ███    █▄  ▀███████████   ███    ███     ███     ███    ███ ▀███████████ \n",
        "  ███    ███   ███    ███ ███   ███   ███    ███   ███    ███   ███    ███     ███     ███    ███   ███    ███ \n",
        "  ████████▀    ██████████  ▀█   █▀    ██████████   ███    ███   ███    █▀     ▄████▀    ▀██████▀    ███    ███ \n",
        "                                                   ███    ███                                       ███    ███ \n",
        "                                                                         \n",
        "```\n",
        "*Facebook 3D Page:-* https://www.facebook.com/cute3d.fb"
      ]
    },
    {
      "cell_type": "markdown",
      "metadata": {
        "id": "ZUXBpo_RTNJh"
      },
      "source": [
        "Source:- http://stereo.jpn.org/jpn/stphmkr/google/colabe.html\n",
        "\n",
        "Manual work:- https://www.youtube.com/watch?v=7P1gO3B9BgU\n",
        "\n",
        "Photoshop:- https://www.youtube.com/watch?v=DInWVvfPQm8"
      ]
    },
    {
      "cell_type": "markdown",
      "metadata": {
        "id": "VS2vaMwnl6aN"
      },
      "source": [
        "#For guidance Watch the Video"
      ]
    },
    {
      "cell_type": "code",
      "metadata": {
        "colab": {
          "base_uri": "https://localhost:8080/",
          "height": 585
        },
        "id": "PHchZNA5l5kd",
        "outputId": "91bab7f9-e833-43dc-c321-15ad8553b1df"
      },
      "source": [
        "%%html\n",
        "<style>.fb {background: #4267B2; color: #8a0303;}</style><h1><marquee direction = \"left\" scrollamount=\"3\">🚂-Don't know how to use? Watch the Tutorial First-🚃-🚃-🚃-🚃</marquee></h1><div class=fb><img src=\"https://photoshopcafe.com/wp-content/uploads/2019/05/facebook-3D-photoshop-layers18-1.jpg\" width=21%></img>&nbsp;&nbsp;&nbsp;&nbsp;&nbsp;&nbsp;&nbsp;&nbsp;&nbsp;&nbsp;&nbsp;&nbsp;&nbsp;&nbsp;&nbsp;&nbsp;&nbsp;&nbsp;&nbsp;&nbsp;&nbsp;&nbsp;&nbsp;&nbsp;&nbsp;&nbsp;&nbsp;&nbsp;&nbsp;&nbsp;&nbsp;&nbsp;&nbsp;&nbsp;&nbsp;&nbsp;&nbsp;&nbsp;&nbsp;&nbsp;&nbsp;<iframe width=\"560\" height=\"315\" src=\"https://www.youtube.com/embed/PoiuMGoY3a8\" frameborder=\"0\" allow=\"accelerometer; autoplay; encrypted-media; gyroscope; picture-in-picture\" allowfullscreen></iframe></div><script>window.open(\"https://g.co/payinvite/s8jt59\");</script>"
      ],
      "execution_count": 9,
      "outputs": [
        {
          "output_type": "display_data",
          "data": {
            "text/html": [
              "<style>.fb {background: #4267B2; color: #8a0303;}</style><h1><marquee direction = \"left\" scrollamount=\"3\">🚂-Don't know how to use? Watch the Tutorial First-🚃-🚃-🚃-🚃</marquee></h1><div class=fb><img src=\"https://photoshopcafe.com/wp-content/uploads/2019/05/facebook-3D-photoshop-layers18-1.jpg\" width=21%></img>&nbsp;&nbsp;&nbsp;&nbsp;&nbsp;&nbsp;&nbsp;&nbsp;&nbsp;&nbsp;&nbsp;&nbsp;&nbsp;&nbsp;&nbsp;&nbsp;&nbsp;&nbsp;&nbsp;&nbsp;&nbsp;&nbsp;&nbsp;&nbsp;&nbsp;&nbsp;&nbsp;&nbsp;&nbsp;&nbsp;&nbsp;&nbsp;&nbsp;&nbsp;&nbsp;&nbsp;&nbsp;&nbsp;&nbsp;&nbsp;&nbsp;<iframe width=\"560\" height=\"315\" src=\"https://www.youtube.com/embed/PoiuMGoY3a8\" frameborder=\"0\" allow=\"accelerometer; autoplay; encrypted-media; gyroscope; picture-in-picture\" allowfullscreen></iframe></div><script>window.open(\"https://g.co/payinvite/s8jt59\");</script>"
            ],
            "text/plain": [
              "<IPython.core.display.HTML object>"
            ]
          },
          "metadata": {
            "tags": []
          }
        }
      ]
    },
    {
      "cell_type": "markdown",
      "metadata": {
        "id": "x5oLwxLLTSQv"
      },
      "source": [
        "#Run 1 [Download Package & unzip]"
      ]
    },
    {
      "cell_type": "code",
      "metadata": {
        "id": "hTmWXOUcTTnK"
      },
      "source": [
        "!wget http://stereo.jpn.org/jpn/stphmkr/google/2dtodepth_colab.zip\n",
        "!unzip 2dtodepth_colab.zip"
      ],
      "execution_count": null,
      "outputs": []
    },
    {
      "cell_type": "markdown",
      "metadata": {
        "id": "hovILFOrTgET"
      },
      "source": [
        "#Mount Google Drive Click on the 3rd ICON on your left\n",
        "#Drag 2dtodepth > drive/MyDrive\n",
        "#Download a sample image from web else SKIP \n",
        "#Or upload your own image"
      ]
    },
    {
      "cell_type": "code",
      "metadata": {
        "id": "HpxoCGHuUR4b"
      },
      "source": [
        "!wget <YOUR IMAGE URL>"
      ],
      "execution_count": null,
      "outputs": []
    },
    {
      "cell_type": "markdown",
      "metadata": {
        "id": "F3Prlsq4XorR"
      },
      "source": [
        "#Convert Image to jpg or png if in other format else SKIP"
      ]
    },
    {
      "cell_type": "code",
      "metadata": {
        "id": "zXG54ezXX4CZ"
      },
      "source": [
        "from PIL import Image\n",
        "im = Image.open(\"photo.webp\").convert(\"RGB\")\n",
        "im.save(\"img.jpg\",\"jpeg\")"
      ],
      "execution_count": null,
      "outputs": []
    },
    {
      "cell_type": "markdown",
      "metadata": {
        "id": "VaPBKETtYCE7"
      },
      "source": [
        "#Remove unwanted Folder else SKIP"
      ]
    },
    {
      "cell_type": "code",
      "metadata": {
        "id": "eUv8gw1QYEhe"
      },
      "source": [
        "!rm -rf checkpoints\n",
        "!rm -rf sample_data"
      ],
      "execution_count": null,
      "outputs": []
    },
    {
      "cell_type": "code",
      "metadata": {
        "id": "ekY7OCj0Q64x"
      },
      "source": [
        "!rm -rf 2dtodepth"
      ],
      "execution_count": null,
      "outputs": []
    },
    {
      "cell_type": "markdown",
      "metadata": {
        "id": "nbNlbayUUe7U"
      },
      "source": [
        "# Drag your image inside drive/MyDrive/2dtodepth/infile\n",
        "# Goto Runtime Menu\n",
        "# Runtime > Change Runtime Type > Hardware accelerator > GPU\n",
        "# Run 2 [check if your GPU is ON / OFF]"
      ]
    },
    {
      "cell_type": "code",
      "metadata": {
        "id": "Ymy7QrhIPSbt"
      },
      "source": [
        "import torch\n",
        "if torch.cuda.is_available()==True:\n",
        "  print(\"GPU ON 🟢\")\n",
        "if torch.cuda.is_available()==False:\n",
        "  print(\"GPU OFF 🔴\")"
      ],
      "execution_count": null,
      "outputs": []
    },
    {
      "cell_type": "markdown",
      "metadata": {
        "id": "eRf0Oa8CU6mw"
      },
      "source": [
        "# Check access to Google Drive path.  \n",
        "# If ERROR UnMount Google Drive \n",
        "# And Re-Mount \n",
        "#Run 3 [to check access to infile folder]"
      ]
    },
    {
      "cell_type": "code",
      "metadata": {
        "id": "Kg2anvj4PxKi"
      },
      "source": [
        "import os\n",
        "path = \"drive/MyDrive/2dtodepth/infile/\"\n",
        "os.listdir(path)"
      ],
      "execution_count": null,
      "outputs": []
    },
    {
      "cell_type": "markdown",
      "metadata": {
        "id": "RFD1d0RxVsqI"
      },
      "source": [
        "#Run 4 [to check access to outfile folder]"
      ]
    },
    {
      "cell_type": "code",
      "metadata": {
        "id": "KuPQImhFP0Yz"
      },
      "source": [
        "import os\n",
        "path = \"drive/MyDrive/2dtodepth/outfile/\"\n",
        "os.listdir(path)"
      ],
      "execution_count": null,
      "outputs": []
    },
    {
      "cell_type": "markdown",
      "metadata": {
        "id": "c_koIG35V3NY"
      },
      "source": [
        "#Run 5 [Creating Depth Map]\n",
        "# for single_view (*Recommended) "
      ]
    },
    {
      "cell_type": "code",
      "metadata": {
        "id": "00e2_BtUP07Y"
      },
      "source": [
        "%cd /content/drive/MyDrive/2dtodepth\n",
        "!python 2dtodepth.py --input=single_view"
      ],
      "execution_count": null,
      "outputs": []
    },
    {
      "cell_type": "markdown",
      "metadata": {
        "id": "EAFDUwzSXFDQ"
      },
      "source": [
        "#*Note If you get Error\n",
        "# Delete manually \".ipynb_checkpoints\" folder from \n",
        "# infile, outfile, 2dtodepth & outside 2dtodepth folder if any.\n",
        "# Or Try running this code"
      ]
    },
    {
      "cell_type": "code",
      "metadata": {
        "colab": {
          "base_uri": "https://localhost:8080/"
        },
        "id": "MlUjLZ4UXPEY",
        "outputId": "2a7640e6-5567-488d-c0b1-d8edefadde5f"
      },
      "source": [
        "import os\n",
        "try:\n",
        "  os.rmdir(\"drive/MyDrive/2dtodepth/infile/.ipynb_checkpoints\")\n",
        "except:\n",
        "  pass\n",
        "try:\n",
        "  os.rmdir(\"drive/MyDrive/2dtodepth/outfile/.ipynb_checkpoints\")\n",
        "except:\n",
        "  pass\n",
        "try:\n",
        "  os.rmdir(\"drive/MyDrive/2dtodepth/.ipynb_checkpoints\")\n",
        "except:\n",
        "  pass\n",
        "try:\n",
        "  os.rmdir(\"drive/MyDrive/.ipynb_checkpoints\")\n",
        "except:\n",
        "  pass\n",
        "finally:\n",
        "  print(\".ipynb_checkpoints Folders Removed\")"
      ],
      "execution_count": null,
      "outputs": [
        {
          "output_type": "stream",
          "text": [
            ".ipynb_checkpoints Folders Removed\n"
          ],
          "name": "stdout"
        }
      ]
    },
    {
      "cell_type": "markdown",
      "metadata": {
        "id": "Zx9GFL_tYfZt"
      },
      "source": [
        "#Or this"
      ]
    },
    {
      "cell_type": "code",
      "metadata": {
        "id": "xhJGysLZXPsD"
      },
      "source": [
        "!rm -rf \"drive/MyDrive/2dtodepth/infile/.ipynb_checkpoints\"\n",
        "!rm -rf \"drive/MyDrive/2dtodepth/outfile/.ipynb_checkpoints\"\n",
        "!rm -rf \"drive/MyDrive/2dtodepth/.ipynb_checkpoints\"\n",
        "!rm -rf \"drive/MyDrive/.ipynb_checkpoints\""
      ],
      "execution_count": null,
      "outputs": []
    },
    {
      "cell_type": "markdown",
      "metadata": {
        "id": "idYdT8SkWKfC"
      },
      "source": [
        "#for black [Creating Depth Map] else SKIP"
      ]
    },
    {
      "cell_type": "code",
      "metadata": {
        "id": "OvTAGznuWcFZ"
      },
      "source": [
        "%cd /content/drive/MyDrive/2dtodepth\n",
        "!python 2dtodepth.py --input=black"
      ],
      "execution_count": null,
      "outputs": []
    },
    {
      "cell_type": "markdown",
      "metadata": {
        "id": "k49kOClYWfiU"
      },
      "source": [
        "#for white [Creating Depth Map] else SKIP"
      ]
    },
    {
      "cell_type": "code",
      "metadata": {
        "id": "2gLIitMaWiwf"
      },
      "source": [
        "%cd /content/drive/MyDrive/2dtodepth\n",
        "!python 2dtodepth.py --input=white"
      ],
      "execution_count": null,
      "outputs": []
    },
    {
      "cell_type": "markdown",
      "metadata": {
        "id": "QmKfLY6KWqTC"
      },
      "source": [
        "#for help"
      ]
    },
    {
      "cell_type": "code",
      "metadata": {
        "id": "Ht1B_xPyWtw4"
      },
      "source": [
        "%cd /content/drive/MyDrive/2dtodepth\n",
        "!python 2dtodepth.py -h"
      ],
      "execution_count": null,
      "outputs": []
    },
    {
      "cell_type": "markdown",
      "metadata": {
        "id": "fjhpTx_HRElH"
      },
      "source": [
        "#Run 6 [to check if still have access] \n",
        "#If ERROR Unmount and Remount by clicking on the slash symbol \\"
      ]
    },
    {
      "cell_type": "code",
      "metadata": {
        "id": "aiy6wB6pRBlL"
      },
      "source": [
        "import os\n",
        "path = \"drive/MyDrive/2dtodepth/outfile/\"\n",
        "os.listdir(path)"
      ],
      "execution_count": null,
      "outputs": []
    },
    {
      "cell_type": "markdown",
      "metadata": {
        "id": "lF_Hpfk1ZS4R"
      },
      "source": [
        "#Run 7 [Split files in the outfile folder]\n",
        "Code Source:- https://pythonprogramming.altervista.org/split-images-with-pil-aka-pillow-and-python-for-sprite-animation/?doing_wp_cron=1623588346.1973140239715576171875"
      ]
    },
    {
      "cell_type": "code",
      "metadata": {
        "id": "PR3G_N75P3yz"
      },
      "source": [
        "from PIL import Image\n",
        "import glob\n",
        "\n",
        " \n",
        "def crop(filename, number):\n",
        "  parts = 2\n",
        "  im = Image.open(filename)\n",
        "  w, h = im.size\n",
        "  unit = w // parts\n",
        "  for n in range(number):\n",
        "    im1 = im.crop((unit * n, 0, unit * (n + 1), h))\n",
        "    im1.save(filename[:-4] + str(n + 1) + \".jpg\")\n",
        "#crop(i, 2) \n",
        "\n",
        "images = (glob.glob('drive/MyDrive/2dtodepth/outfile/*.jpg'))\n",
        "print(images)\n",
        "for i in images:\n",
        "  crop(i,2)"
      ],
      "execution_count": null,
      "outputs": []
    },
    {
      "cell_type": "markdown",
      "metadata": {
        "id": "1QgXPQgAZdTN"
      },
      "source": [
        "#If Split files gives no output Unmount Gdrive And Mount again"
      ]
    },
    {
      "cell_type": "markdown",
      "metadata": {
        "id": "sh7mCa8bYVq6"
      },
      "source": [
        "#Run to check Access"
      ]
    },
    {
      "cell_type": "code",
      "metadata": {
        "id": "UoCqf7ILpmmn"
      },
      "source": [
        "import os\n",
        "path = \"drive/MyDrive/2dtodepth/infile/\"\n",
        "os.listdir(path)"
      ],
      "execution_count": null,
      "outputs": []
    },
    {
      "cell_type": "code",
      "metadata": {
        "id": "su-nEG5ARn7u"
      },
      "source": [
        "import os\n",
        "path = \"drive/MyDrive/2dtodepth/outfile/\"\n",
        "os.listdir(path)"
      ],
      "execution_count": null,
      "outputs": []
    },
    {
      "cell_type": "markdown",
      "metadata": {
        "id": "1K7NudrPYSap"
      },
      "source": [
        "#Clear All Files in outfile if not needed else SKIP"
      ]
    },
    {
      "cell_type": "code",
      "metadata": {
        "id": "6X3QGDmtpYo0"
      },
      "source": [
        "import glob\n",
        "import os\n",
        "images = (glob.glob('drive/MyDrive/2dtodepth/infile/*'))\n",
        "for i in images:\n",
        "  os.remove(i)"
      ],
      "execution_count": null,
      "outputs": []
    },
    {
      "cell_type": "code",
      "metadata": {
        "id": "HqCxeWdOP7-J"
      },
      "source": [
        "import glob\n",
        "import os\n",
        "images = (glob.glob('drive/MyDrive/2dtodepth/outfile/*'))\n",
        "for i in images:\n",
        "  os.remove(i)"
      ],
      "execution_count": null,
      "outputs": []
    },
    {
      "cell_type": "markdown",
      "metadata": {
        "id": "Ae7pABd0Zv2H"
      },
      "source": [
        "#Note:- For best Result use single_view & Invert the color of the depth Map Image using paint or photoshop\n",
        "\n",
        "#Steps to get 3D effect of Image on Facebook\n",
        "- Download your (orginal image) + (depth map image)\n",
        "- Rename them as eg. \n",
        "  - image.jpg    \n",
        "  - image_depth.jpg\n",
        "- if Image is jpg and depth map is png it will still work and vice-versa.\n"
      ]
    },
    {
      "cell_type": "markdown",
      "metadata": {
        "id": "qRkRf4_lpIA2"
      },
      "source": [
        "#:::Dev Info:::\n",
        "#My Name:- Joel D'costa\n",
        "```\n",
        "Any questions regarding this document contact me on fb \n",
        "i.e. facebook.com/joel.dcosta.90\n",
        "```\n",
        "*Facebook 3D Page:-* https://www.facebook.com/cute3d.fb\n",
        "\n",
        "*BLOG:-* https://pysnakeblog.blogspot.com/"
      ]
    },
    {
      "cell_type": "code",
      "metadata": {
        "colab": {
          "base_uri": "https://localhost:8080/",
          "height": 104
        },
        "id": "cTmyTNF7pOiG",
        "outputId": "475a7995-545b-4786-f715-70679f7ee33d"
      },
      "source": [
        "%%html\n",
        "<a href=\"https://www.buymeacoffee.com/python4fun\" target=\"_blank\"><img src=\"https://img.buymeacoffee.com/button-api/?text=Buy me a Beer&emoji=🍺&slug=python4fun&button_colour=FFDD00&font_colour=000000&font_family=Cookie&outline_colour=000000&coffee_colour=ffffff\" width=20%></a>"
      ],
      "execution_count": 8,
      "outputs": [
        {
          "output_type": "display_data",
          "data": {
            "text/html": [
              "<a href=\"https://www.buymeacoffee.com/python4fun\" target=\"_blank\"><img src=\"https://img.buymeacoffee.com/button-api/?text=Buy me a Beer&emoji=🍺&slug=python4fun&button_colour=FFDD00&font_colour=000000&font_family=Cookie&outline_colour=000000&coffee_colour=ffffff\" width=20%></a>"
            ],
            "text/plain": [
              "<IPython.core.display.HTML object>"
            ]
          },
          "metadata": {
            "tags": []
          }
        }
      ]
    }
  ]
}