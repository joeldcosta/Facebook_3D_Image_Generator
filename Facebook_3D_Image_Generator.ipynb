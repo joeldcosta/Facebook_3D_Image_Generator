{
  "nbformat": 4,
  "nbformat_minor": 0,
  "metadata": {
    "colab": {
      "name": "Facebook_3D_Image_Generator.ipynb",
      "provenance": [],
      "collapsed_sections": [],
      "mount_file_id": "1FlWsWEh2vZXwCBI-asgi1XKoie4u7jYb",
      "authorship_tag": "ABX9TyOYE4bDOKno/06TCSu8+0Eh",
      "include_colab_link": true
    },
    "kernelspec": {
      "name": "python3",
      "display_name": "Python 3"
    },
    "language_info": {
      "name": "python"
    },
    "accelerator": "GPU"
  },
  "cells": [
    {
      "cell_type": "markdown",
      "metadata": {
        "id": "view-in-github",
        "colab_type": "text"
      },
      "source": [
        "<a href=\"https://colab.research.google.com/github/joeldcosta/Facebook_3D_Image_Generator/blob/main/Facebook_3D_Image_Generator.ipynb\" target=\"_parent\"><img src=\"https://colab.research.google.com/assets/colab-badge.svg\" alt=\"Open In Colab\"/></a>"
      ]
    },
    {
      "cell_type": "code",
      "metadata": {
        "colab": {
          "base_uri": "https://localhost:8080/",
          "height": 104
        },
        "id": "qD3RDGtalv8X",
        "outputId": "1262f06a-0c35-4f1f-eb40-42e7fe5bab8a"
      },
      "source": [
        "%%html\n",
        "<a href=\"https://www.buymeacoffee.com/python4fun\" target=\"_blank\"><img src=\"https://img.buymeacoffee.com/button-api/?text=Buy me a Beer&emoji=🍺&slug=python4fun&button_colour=FFDD00&font_colour=000000&font_family=Cookie&outline_colour=000000&coffee_colour=ffffff\" width=20%></a>"
      ],
      "execution_count": null,
      "outputs": [
        {
          "output_type": "display_data",
          "data": {
            "text/html": [
              "<a href=\"https://www.buymeacoffee.com/python4fun\" target=\"_blank\"><img src=\"https://img.buymeacoffee.com/button-api/?text=Buy me a Beer&emoji=🍺&slug=python4fun&button_colour=FFDD00&font_colour=000000&font_family=Cookie&outline_colour=000000&coffee_colour=ffffff\" width=20%></a>"
            ],
            "text/plain": [
              "<IPython.core.display.HTML object>"
            ]
          },
          "metadata": {
            "tags": []
          }
        }
      ]
    },
    {
      "cell_type": "markdown",
      "metadata": {
        "id": "J92gWY3oTFJB"
      },
      "source": [
        "```\n",
        "   ▄████████    ▄████████  ▄████████    ▄████████ ▀█████████▄   ▄██████▄   ▄██████▄     ▄█   ▄█▄               \n",
        "  ███    ███   ███    ███ ███    ███   ███    ███   ███    ███ ███    ███ ███    ███   ███ ▄███▀               \n",
        "  ███    █▀    ███    ███ ███    █▀    ███    █▀    ███    ███ ███    ███ ███    ███   ███▐██▀                 \n",
        " ▄███▄▄▄       ███    ███ ███         ▄███▄▄▄      ▄███▄▄▄██▀  ███    ███ ███    ███  ▄█████▀                  \n",
        "▀▀███▀▀▀     ▀███████████ ███        ▀▀███▀▀▀     ▀▀███▀▀▀██▄  ███    ███ ███    ███ ▀▀█████▄                  \n",
        "  ███          ███    ███ ███    █▄    ███    █▄    ███    ██▄ ███    ███ ███    ███   ███▐██▄                 \n",
        "  ███          ███    ███ ███    ███   ███    ███   ███    ███ ███    ███ ███    ███   ███ ▀███▄               \n",
        "  ███          ███    █▀  ████████▀    ██████████ ▄█████████▀   ▀██████▀   ▀██████▀    ███   ▀█▀               \n",
        "                                                                                       ▀                       \n",
        " ▄███████▄   ████████▄        ▄█    ▄▄▄▄███▄▄▄▄      ▄████████    ▄██████▄     ▄████████                       \n",
        "██     ▀███  ████   ▀███      ███  ▄██▀▀▀███▀▀▀██▄   ███    ███   ███    ███   ███    ███                      \n",
        "▀      ▄██▀  ████    ███      ███▌ ███   ███   ███   ███    ███   ███    █▀    ███    █▀                       \n",
        "    ██████   ████    ███      ███▌ ███   ███   ███   ███    ███  ▄███         ▄███▄▄▄                          \n",
        "       ▀██▄  ████    ███      ███▌ ███   ███   ███ ▀███████████ ▀▀███ ████▄  ▀▀███▀▀▀                          \n",
        "█       ███  ████    ███      ███  ███   ███   ███   ███    ███   ███    ███   ███    █▄                       \n",
        "██     ▄██▀  ████   ▄███      ███  ███   ███   ███   ███    ███   ███    ███   ███    ███                      \n",
        " ▀███████▀   ████████▀       █▀    ▀█   ███   █▀    ███    █▀    ████████▀    ██████████                       \n",
        "                                                                                                               \n",
        "   ▄██████▄     ▄████████ ███▄▄▄▄      ▄████████    ▄████████    ▄████████     ███      ▄██████▄     ▄████████ \n",
        "  ███    ███   ███    ███ ███▀▀▀██▄   ███    ███   ███    ███   ███    ███ ▀█████████▄ ███    ███   ███    ███ \n",
        "  ███    █▀    ███    █▀  ███   ███   ███    █▀    ███    ███   ███    ███    ▀███▀▀██ ███    ███   ███    ███ \n",
        " ▄███         ▄███▄▄▄     ███   ███  ▄███▄▄▄      ▄███▄▄▄▄██▀   ███    ███     ███   ▀ ███    ███  ▄███▄▄▄▄██▀ \n",
        "▀▀███ ████▄  ▀▀███▀▀▀     ███   ███ ▀▀███▀▀▀     ▀▀███▀▀▀▀▀   ▀███████████     ███     ███    ███ ▀▀███▀▀▀▀▀   \n",
        "  ███    ███   ███    █▄  ███   ███   ███    █▄  ▀███████████   ███    ███     ███     ███    ███ ▀███████████ \n",
        "  ███    ███   ███    ███ ███   ███   ███    ███   ███    ███   ███    ███     ███     ███    ███   ███    ███ \n",
        "  ████████▀    ██████████  ▀█   █▀    ██████████   ███    ███   ███    █▀     ▄████▀    ▀██████▀    ███    ███ \n",
        "                                                   ███    ███                                       ███    ███ \n",
        "                                                                         \n",
        "```\n",
        "*Facebook 3D Page:-* https://www.facebook.com/cute3d.fb"
      ]
    },
    {
      "cell_type": "markdown",
      "metadata": {
        "id": "ZUXBpo_RTNJh"
      },
      "source": [
        "Source:- http://stereo.jpn.org/jpn/stphmkr/google/colabe.html\n",
        "\n",
        "Manual work:- https://www.youtube.com/watch?v=7P1gO3B9BgU\n",
        "\n",
        "Photoshop:- https://www.youtube.com/watch?v=DInWVvfPQm8"
      ]
    },
    {
      "cell_type": "markdown",
      "metadata": {
        "id": "VS2vaMwnl6aN"
      },
      "source": [
        "#For guidance Watch the Video"
      ]
    },
    {
      "cell_type": "code",
      "metadata": {
        "colab": {
          "base_uri": "https://localhost:8080/",
          "height": 585
        },
        "id": "PHchZNA5l5kd",
        "outputId": "70ce56cf-bc28-4114-c450-75b6dd2a2c32"
      },
      "source": [
        "%%html\n",
        "<style>.fb {background: #4267B2; color: #8a0303;}</style><h1><marquee direction = \"left\" scrollamount=\"3\">🚂-Don't know how to use? Watch the Tutorial First-🚃-🚃-🚃-🚃</marquee></h1><div class=fb><img src=\"https://photoshopcafe.com/wp-content/uploads/2019/05/facebook-3D-photoshop-layers18-1.jpg\" width=21%></img>&nbsp;&nbsp;&nbsp;&nbsp;&nbsp;&nbsp;&nbsp;&nbsp;&nbsp;&nbsp;&nbsp;&nbsp;&nbsp;&nbsp;&nbsp;&nbsp;&nbsp;&nbsp;&nbsp;&nbsp;&nbsp;&nbsp;&nbsp;&nbsp;&nbsp;&nbsp;&nbsp;&nbsp;&nbsp;&nbsp;&nbsp;&nbsp;&nbsp;&nbsp;&nbsp;&nbsp;&nbsp;&nbsp;&nbsp;&nbsp;&nbsp;<iframe width=\"560\" height=\"315\" src=\"https://www.youtube.com/embed/PoiuMGoY3a8\" frameborder=\"0\" allow=\"accelerometer; autoplay; encrypted-media; gyroscope; picture-in-picture\" allowfullscreen></iframe></div><script>window.open(\"https://g.co/payinvite/s8jt59\");</script>"
      ],
      "execution_count": null,
      "outputs": [
        {
          "output_type": "display_data",
          "data": {
            "text/html": [
              "<style>.fb {background: #4267B2; color: #8a0303;}</style><h1><marquee direction = \"left\" scrollamount=\"3\">🚂-Don't know how to use? Watch the Tutorial First-🚃-🚃-🚃-🚃</marquee></h1><div class=fb><img src=\"https://photoshopcafe.com/wp-content/uploads/2019/05/facebook-3D-photoshop-layers18-1.jpg\" width=21%></img>&nbsp;&nbsp;&nbsp;&nbsp;&nbsp;&nbsp;&nbsp;&nbsp;&nbsp;&nbsp;&nbsp;&nbsp;&nbsp;&nbsp;&nbsp;&nbsp;&nbsp;&nbsp;&nbsp;&nbsp;&nbsp;&nbsp;&nbsp;&nbsp;&nbsp;&nbsp;&nbsp;&nbsp;&nbsp;&nbsp;&nbsp;&nbsp;&nbsp;&nbsp;&nbsp;&nbsp;&nbsp;&nbsp;&nbsp;&nbsp;&nbsp;<iframe width=\"560\" height=\"315\" src=\"https://www.youtube.com/embed/PoiuMGoY3a8\" frameborder=\"0\" allow=\"accelerometer; autoplay; encrypted-media; gyroscope; picture-in-picture\" allowfullscreen></iframe></div><script>window.open(\"https://g.co/payinvite/s8jt59\");</script>"
            ],
            "text/plain": [
              "<IPython.core.display.HTML object>"
            ]
          },
          "metadata": {
            "tags": []
          }
        }
      ]
    },
    {
      "cell_type": "markdown",
      "metadata": {
        "id": "x5oLwxLLTSQv"
      },
      "source": [
        "#Run 1 [Download Package & unzip]"
      ]
    },
    {
      "cell_type": "code",
      "metadata": {
        "id": "hTmWXOUcTTnK"
      },
      "source": [
        "!wget http://stereo.jpn.org/jpn/stphmkr/google/2dtodepth_colab.zip\n",
        "!unzip 2dtodepth_colab.zip"
      ],
      "execution_count": null,
      "outputs": []
    },
    {
      "cell_type": "markdown",
      "metadata": {
        "id": "hovILFOrTgET"
      },
      "source": [
        "#Mount Google Drive Click on the 3rd ICON on your left\n",
        "#Drag 2dtodepth > drive/MyDrive\n",
        "#Download a sample image from web else SKIP \n",
        "#Or upload your own image"
      ]
    },
    {
      "cell_type": "code",
      "metadata": {
        "id": "HpxoCGHuUR4b"
      },
      "source": [
        "!wget <YOUR IMAGE URL>"
      ],
      "execution_count": null,
      "outputs": []
    },
    {
      "cell_type": "code",
      "metadata": {
        "id": "bQtCarankN82"
      },
      "source": [
        "!wget https://wp-rocket.me/wp-content/uploads/1/What-is-WebP-and-how-to-use-this-image-format-in-WordPress.png -P /drive/MyDrive/2dtodepth/infile/"
      ],
      "execution_count": null,
      "outputs": []
    },
    {
      "cell_type": "markdown",
      "metadata": {
        "id": "F3Prlsq4XorR"
      },
      "source": [
        "#Convert Image to jpg or png if in other format else SKIP"
      ]
    },
    {
      "cell_type": "code",
      "metadata": {
        "id": "zXG54ezXX4CZ"
      },
      "source": [
        "from PIL import Image\n",
        "im = Image.open(\"photo.webp\").convert(\"RGB\")\n",
        "im.save(\"img.jpg\",\"jpeg\")"
      ],
      "execution_count": null,
      "outputs": []
    },
    {
      "cell_type": "markdown",
      "metadata": {
        "id": "VaPBKETtYCE7"
      },
      "source": [
        "#Remove unwanted Folder else SKIP"
      ]
    },
    {
      "cell_type": "code",
      "metadata": {
        "id": "eUv8gw1QYEhe"
      },
      "source": [
        "!rm -rf checkpoints\n",
        "!rm -rf sample_data"
      ],
      "execution_count": null,
      "outputs": []
    },
    {
      "cell_type": "code",
      "metadata": {
        "id": "ekY7OCj0Q64x"
      },
      "source": [
        "!rm -rf 2dtodepth"
      ],
      "execution_count": null,
      "outputs": []
    },
    {
      "cell_type": "markdown",
      "metadata": {
        "id": "nbNlbayUUe7U"
      },
      "source": [
        "# Drag your image inside drive/MyDrive/2dtodepth/infile\n",
        "# Goto Runtime Menu\n",
        "# Runtime > Change Runtime Type > Hardware accelerator > GPU\n",
        "# Run 2 [check if your GPU is ON / OFF]"
      ]
    },
    {
      "cell_type": "code",
      "metadata": {
        "id": "Ymy7QrhIPSbt",
        "colab": {
          "base_uri": "https://localhost:8080/"
        },
        "outputId": "3ad255c1-e748-4dd2-b266-3c2ba76dadbb"
      },
      "source": [
        "import torch\n",
        "if torch.cuda.is_available()==True:\n",
        "  print(\"GPU ON 🟢\")\n",
        "if torch.cuda.is_available()==False:\n",
        "  print(\"GPU OFF 🔴\")"
      ],
      "execution_count": null,
      "outputs": [
        {
          "output_type": "stream",
          "text": [
            "GPU ON 🟢\n"
          ],
          "name": "stdout"
        }
      ]
    },
    {
      "cell_type": "markdown",
      "metadata": {
        "id": "eRf0Oa8CU6mw"
      },
      "source": [
        "# Check access to Google Drive path.  \n",
        "# If ERROR UnMount Google Drive \n",
        "# And Re-Mount \n",
        "#Run 3 [to check access to infile folder]"
      ]
    },
    {
      "cell_type": "code",
      "metadata": {
        "id": "Kg2anvj4PxKi",
        "colab": {
          "base_uri": "https://localhost:8080/"
        },
        "outputId": "9126e571-21cf-4bcc-f463-39ceb0144377"
      },
      "source": [
        "import os\n",
        "path = \"drive/MyDrive/2dtodepth/infile/\"\n",
        "os.listdir(path)"
      ],
      "execution_count": null,
      "outputs": [
        {
          "output_type": "execute_result",
          "data": {
            "text/plain": [
              "['217330573_10208901741856540_3887592126814063996_n.jpg']"
            ]
          },
          "metadata": {
            "tags": []
          },
          "execution_count": 1
        }
      ]
    },
    {
      "cell_type": "markdown",
      "metadata": {
        "id": "RFD1d0RxVsqI"
      },
      "source": [
        "#Run 4 [to check access to outfile folder]"
      ]
    },
    {
      "cell_type": "code",
      "metadata": {
        "id": "KuPQImhFP0Yz"
      },
      "source": [
        "import os\n",
        "path = \"drive/MyDrive/2dtodepth/outfile/\"\n",
        "os.listdir(path)"
      ],
      "execution_count": null,
      "outputs": []
    },
    {
      "cell_type": "markdown",
      "metadata": {
        "id": "c_koIG35V3NY"
      },
      "source": [
        "#Run 5 [Creating Depth Map]\n",
        "# for single_view (*Recommended) "
      ]
    },
    {
      "cell_type": "code",
      "metadata": {
        "id": "00e2_BtUP07Y"
      },
      "source": [
        "%cd /content/drive/MyDrive/2dtodepth\n",
        "!python 2dtodepth.py --input=single_view"
      ],
      "execution_count": null,
      "outputs": []
    },
    {
      "cell_type": "markdown",
      "metadata": {
        "id": "EAFDUwzSXFDQ"
      },
      "source": [
        "#*Note If you get Error\n",
        "# Delete manually \".ipynb_checkpoints\" folder from \n",
        "# infile, outfile, 2dtodepth & outside 2dtodepth folder if any.\n",
        "# Or Try running this code"
      ]
    },
    {
      "cell_type": "code",
      "metadata": {
        "id": "MlUjLZ4UXPEY",
        "colab": {
          "base_uri": "https://localhost:8080/"
        },
        "outputId": "d5cbea20-7355-43a9-882f-6e2c9264af0f"
      },
      "source": [
        "import os\n",
        "try:\n",
        "  os.rmdir(\"drive/MyDrive/2dtodepth/infile/.ipynb_checkpoints\")\n",
        "except:\n",
        "  pass\n",
        "try:\n",
        "  os.rmdir(\"drive/MyDrive/2dtodepth/outfile/.ipynb_checkpoints\")\n",
        "except:\n",
        "  pass\n",
        "try:\n",
        "  os.rmdir(\"drive/MyDrive/2dtodepth/.ipynb_checkpoints\")\n",
        "except:\n",
        "  pass\n",
        "try:\n",
        "  os.rmdir(\"drive/MyDrive/.ipynb_checkpoints\")\n",
        "except:\n",
        "  pass\n",
        "finally:\n",
        "  print(\".ipynb_checkpoints Folders Removed\")"
      ],
      "execution_count": null,
      "outputs": [
        {
          "output_type": "stream",
          "text": [
            ".ipynb_checkpoints Folders Removed\n"
          ],
          "name": "stdout"
        }
      ]
    },
    {
      "cell_type": "markdown",
      "metadata": {
        "id": "Zx9GFL_tYfZt"
      },
      "source": [
        "#Or this"
      ]
    },
    {
      "cell_type": "code",
      "metadata": {
        "id": "xhJGysLZXPsD"
      },
      "source": [
        "!rm -rf \"drive/MyDrive/2dtodepth/infile/.ipynb_checkpoints\"\n",
        "!rm -rf \"drive/MyDrive/2dtodepth/outfile/.ipynb_checkpoints\"\n",
        "!rm -rf \"drive/MyDrive/2dtodepth/.ipynb_checkpoints\"\n",
        "!rm -rf \"drive/MyDrive/.ipynb_checkpoints\""
      ],
      "execution_count": null,
      "outputs": []
    },
    {
      "cell_type": "markdown",
      "metadata": {
        "id": "idYdT8SkWKfC"
      },
      "source": [
        "#for black [Creating Depth Map] else SKIP"
      ]
    },
    {
      "cell_type": "code",
      "metadata": {
        "id": "OvTAGznuWcFZ"
      },
      "source": [
        "%cd /content/drive/MyDrive/2dtodepth\n",
        "!python 2dtodepth.py --input=black"
      ],
      "execution_count": null,
      "outputs": []
    },
    {
      "cell_type": "markdown",
      "metadata": {
        "id": "k49kOClYWfiU"
      },
      "source": [
        "#for white [Creating Depth Map] else SKIP"
      ]
    },
    {
      "cell_type": "code",
      "metadata": {
        "id": "2gLIitMaWiwf",
        "colab": {
          "base_uri": "https://localhost:8080/"
        },
        "outputId": "512d4609-7252-412d-bad6-d7d9d972305a"
      },
      "source": [
        "%cd /content/drive/MyDrive/2dtodepth\n",
        "!python 2dtodepth.py --input=white"
      ],
      "execution_count": null,
      "outputs": [
        {
          "output_type": "stream",
          "text": [
            "/content/drive/MyDrive/2dtodepth\n",
            "------------ Options -------------\n",
            "batchSize: 8\n",
            "beta1: 0.5\n",
            "checkpoints_dir: ./checkpoints/\n",
            "continue_train: False\n",
            "display_freq: 100\n",
            "display_id: 1\n",
            "display_winsize: 256\n",
            "fineSize: 256\n",
            "gpu_ids: [0, 1, 2, 3]\n",
            "human_data_term: 0\n",
            "identity: 0.0\n",
            "input: white\n",
            "isTrain: True\n",
            "lambda_A: 10.0\n",
            "lambda_B: 10.0\n",
            "loadSize: 286\n",
            "lr: 0.0004\n",
            "lr_decay_epoch: 8\n",
            "lr_policy: step\n",
            "max_dataset_size: inf\n",
            "mode: Ours_Bilinear\n",
            "model: pix2pix\n",
            "nThreads: 2\n",
            "name: test_local\n",
            "ndf: 64\n",
            "ngf: 64\n",
            "niter: 100\n",
            "niter_decay: 100\n",
            "no_flip: False\n",
            "no_html: False\n",
            "no_lsgan: False\n",
            "norm: instance\n",
            "output_nc: 3\n",
            "phase: train\n",
            "pool_size: 50\n",
            "print_freq: 100\n",
            "save_epoch_freq: 5\n",
            "save_latest_freq: 5000\n",
            "serial_batches: False\n",
            "simple_keypoints: 0\n",
            "use_dropout: False\n",
            "which_epoch: latest\n",
            "which_model_netG: unet_256\n",
            "-------------- End ----------------\n",
            "========================= Video dataset #images = 2 =========\n",
            "======================================  DIW NETWORK TRAIN FROM Ours_Bilinear=======================\n",
            "===================Loading Pretrained Model OURS ===================================\n",
            "./checkpoints/test_local/best_depth_Ours_Bilinear_inc_3_net_G.pth\n",
            "---------- Networks initialized -------------\n",
            "DataParallel(\n",
            "  (module): HourglassModel(\n",
            "    (seq): Sequential(\n",
            "      (0): Conv2d(3, 128, kernel_size=(7, 7), stride=(1, 1), padding=(3, 3))\n",
            "      (1): BatchNorm2d(128, eps=1e-05, momentum=0.1, affine=True, track_running_stats=True)\n",
            "      (2): ReLU(inplace=True)\n",
            "      (3): Channels4(\n",
            "        (list): ModuleList(\n",
            "          (0): Sequential(\n",
            "            (0): AvgPool2d(kernel_size=2, stride=2, padding=0)\n",
            "            (1): inception[[32], [3, 32, 32], [5, 32, 32], [7, 32, 32]]\n",
            "            (2): inception[[32], [3, 32, 32], [5, 32, 32], [7, 32, 32]]\n",
            "            (3): Channels3(\n",
            "              (list): ModuleList(\n",
            "                (0): Sequential(\n",
            "                  (0): AvgPool2d(kernel_size=2, stride=2, padding=0)\n",
            "                  (1): inception[[32], [3, 32, 32], [5, 32, 32], [7, 32, 32]]\n",
            "                  (2): inception[[64], [3, 32, 64], [5, 32, 64], [7, 32, 64]]\n",
            "                  (3): Channels2(\n",
            "                    (list): ModuleList(\n",
            "                      (0): Sequential(\n",
            "                        (0): inception[[64], [3, 32, 64], [5, 32, 64], [7, 32, 64]]\n",
            "                        (1): inception[[64], [3, 64, 64], [7, 64, 64], [11, 64, 64]]\n",
            "                      )\n",
            "                      (1): Sequential(\n",
            "                        (0): AvgPool2d(kernel_size=2, stride=2, padding=0)\n",
            "                        (1): inception[[64], [3, 32, 64], [5, 32, 64], [7, 32, 64]]\n",
            "                        (2): inception[[64], [3, 32, 64], [5, 32, 64], [7, 32, 64]]\n",
            "                        (3): Channels1(\n",
            "                          (list): ModuleList(\n",
            "                            (0): Sequential(\n",
            "                              (0): inception[[64], [3, 32, 64], [5, 32, 64], [7, 32, 64]]\n",
            "                              (1): inception[[64], [3, 32, 64], [5, 32, 64], [7, 32, 64]]\n",
            "                            )\n",
            "                            (1): Sequential(\n",
            "                              (0): AvgPool2d(kernel_size=2, stride=2, padding=0)\n",
            "                              (1): inception[[64], [3, 32, 64], [5, 32, 64], [7, 32, 64]]\n",
            "                              (2): inception[[64], [3, 32, 64], [5, 32, 64], [7, 32, 64]]\n",
            "                              (3): inception[[64], [3, 32, 64], [5, 32, 64], [7, 32, 64]]\n",
            "                              (4): UpsamplingBilinear2d(scale_factor=2.0, mode=bilinear)\n",
            "                            )\n",
            "                          )\n",
            "                        )\n",
            "                        (4): inception[[64], [3, 32, 64], [5, 32, 64], [7, 32, 64]]\n",
            "                        (5): inception[[64], [3, 64, 64], [7, 64, 64], [11, 64, 64]]\n",
            "                        (6): UpsamplingBilinear2d(scale_factor=2.0, mode=bilinear)\n",
            "                      )\n",
            "                    )\n",
            "                  )\n",
            "                  (4): inception[[64], [3, 32, 64], [5, 32, 64], [7, 32, 64]]\n",
            "                  (5): inception[[32], [3, 32, 32], [5, 32, 32], [7, 32, 32]]\n",
            "                  (6): UpsamplingBilinear2d(scale_factor=2.0, mode=bilinear)\n",
            "                )\n",
            "                (1): Sequential(\n",
            "                  (0): inception[[32], [3, 32, 32], [5, 32, 32], [7, 32, 32]]\n",
            "                  (1): inception[[32], [3, 64, 32], [7, 64, 32], [11, 64, 32]]\n",
            "                )\n",
            "              )\n",
            "            )\n",
            "            (4): inception[[32], [3, 64, 32], [5, 64, 32], [7, 64, 32]]\n",
            "            (5): inception[[16], [3, 32, 16], [7, 32, 16], [11, 32, 16]]\n",
            "            (6): UpsamplingBilinear2d(scale_factor=2.0, mode=bilinear)\n",
            "          )\n",
            "          (1): Sequential(\n",
            "            (0): inception[[16], [3, 64, 16], [7, 64, 16], [11, 64, 16]]\n",
            "          )\n",
            "        )\n",
            "      )\n",
            "    )\n",
            "    (uncertainty_layer): Sequential(\n",
            "      (0): Conv2d(64, 1, kernel_size=(3, 3), stride=(1, 1), padding=(1, 1))\n",
            "      (1): Sigmoid()\n",
            "    )\n",
            "    (pred_layer): Conv2d(64, 1, kernel_size=(3, 3), stride=(1, 1), padding=(1, 1))\n",
            "  )\n",
            ")\n",
            "Total number of parameters: 5357730\n",
            "-----------------------------------------------\n",
            "=================================  BEGIN VALIDATION =====================================\n",
            "TESTING ON VIDEO\n",
            "infile/217330573_10208901741856540_3887592126814063996_n.jpg  --->  outfile/217330573_10208901741856540_3887592126814063996_n.jpg\n",
            "infile/5 - Copy.png  --->  outfile/5 - Copy.png\n"
          ],
          "name": "stdout"
        }
      ]
    },
    {
      "cell_type": "markdown",
      "metadata": {
        "id": "QmKfLY6KWqTC"
      },
      "source": [
        "#for help"
      ]
    },
    {
      "cell_type": "code",
      "metadata": {
        "id": "Ht1B_xPyWtw4"
      },
      "source": [
        "%cd /content/drive/MyDrive/2dtodepth\n",
        "!python 2dtodepth.py -h"
      ],
      "execution_count": null,
      "outputs": []
    },
    {
      "cell_type": "markdown",
      "metadata": {
        "id": "fjhpTx_HRElH"
      },
      "source": [
        "#Run 6 [to check if still have access] \n",
        "#If ERROR Unmount and Remount by clicking on the slash symbol \\"
      ]
    },
    {
      "cell_type": "code",
      "metadata": {
        "id": "aiy6wB6pRBlL",
        "colab": {
          "base_uri": "https://localhost:8080/"
        },
        "outputId": "c4861ea3-649d-4a56-9c13-862f409ae8e6"
      },
      "source": [
        "import os\n",
        "path = \"drive/MyDrive/2dtodepth/outfile/\"\n",
        "os.listdir(path)"
      ],
      "execution_count": null,
      "outputs": [
        {
          "output_type": "execute_result",
          "data": {
            "text/plain": [
              "['217330573_10208901741856540_3887592126814063996_n1.jpg',\n",
              " '217330573_10208901741856540_3887592126814063996_n1_depth.jpg',\n",
              " '5 - Copy.png',\n",
              " '217330573_10208901741856540_3887592126814063996_n.jpg']"
            ]
          },
          "metadata": {
            "tags": []
          },
          "execution_count": 1
        }
      ]
    },
    {
      "cell_type": "markdown",
      "metadata": {
        "id": "lF_Hpfk1ZS4R"
      },
      "source": [
        "#Run 7 [Split files in the outfile folder]\n",
        "Code Source:- https://pythonprogramming.altervista.org/split-images-with-pil-aka-pillow-and-python-for-sprite-animation/?doing_wp_cron=1623588346.1973140239715576171875"
      ]
    },
    {
      "cell_type": "code",
      "metadata": {
        "id": "PR3G_N75P3yz",
        "colab": {
          "base_uri": "https://localhost:8080/"
        },
        "outputId": "d8641dae-ed7f-45de-d2b8-8671a5f0872e"
      },
      "source": [
        "from PIL import Image\n",
        "import glob\n",
        "\n",
        " \n",
        "def crop(filename, number):\n",
        "  parts = 2\n",
        "  im = Image.open(filename)\n",
        "  w, h = im.size\n",
        "  unit = w // parts\n",
        "  for n in range(number):\n",
        "    im1 = im.crop((unit * n, 0, unit * (n + 1), h))\n",
        "    #im1.save(filename[:-4] + str(n + 1) + \".jpg\")\n",
        "  \n",
        "    if \".jpg\" in filename:\n",
        "      if str(n+1) == str(2):\n",
        "        im1.save(filename[:-4] + str(\"1_depth\") + \".jpg\")\n",
        "      else:\n",
        "        im1.save(filename[:-4] + str(n + 1) + \".jpg\")\n",
        "      \n",
        "    if \".png\" in filename:\n",
        "      if str(n+1) == str(2):\n",
        "        im1.save(filename[:-4] + str(\"1_depth\") + \".png\")\n",
        "      else:\n",
        "        im1.save(filename[:-4] + str(n + 1) + \".png\")\n",
        "        \n",
        "#crop(i, 2) \n",
        "\n",
        "images_jpg = (glob.glob('drive/MyDrive/2dtodepth/outfile/*.jpg'))\n",
        "print(images_jpg)\n",
        "for j in images_jpg:\n",
        "  crop(j,2)\n",
        "\n",
        "images_png = (glob.glob('drive/MyDrive/2dtodepth/outfile/*.png'))\n",
        "print(images_png)\n",
        "for p in images_png:\n",
        "  crop(p,2)"
      ],
      "execution_count": null,
      "outputs": [
        {
          "output_type": "stream",
          "text": [
            "['drive/MyDrive/2dtodepth/outfile/217330573_10208901741856540_3887592126814063996_n1.jpg', 'drive/MyDrive/2dtodepth/outfile/217330573_10208901741856540_3887592126814063996_n1_depth.jpg', 'drive/MyDrive/2dtodepth/outfile/217330573_10208901741856540_3887592126814063996_n.jpg']\n",
            "['drive/MyDrive/2dtodepth/outfile/5 - Copy.png']\n"
          ],
          "name": "stdout"
        }
      ]
    },
    {
      "cell_type": "markdown",
      "metadata": {
        "id": "1QgXPQgAZdTN"
      },
      "source": [
        "#If Split files gives no output Unmount Gdrive And Mount again"
      ]
    },
    {
      "cell_type": "markdown",
      "metadata": {
        "id": "sh7mCa8bYVq6"
      },
      "source": [
        "#Run to check Access"
      ]
    },
    {
      "cell_type": "code",
      "metadata": {
        "id": "UoCqf7ILpmmn",
        "colab": {
          "base_uri": "https://localhost:8080/"
        },
        "outputId": "46f51d12-0ab7-4c5d-c49c-aeacaaec9fe4"
      },
      "source": [
        "import os\n",
        "path = \"drive/MyDrive/2dtodepth/infile/\"\n",
        "os.listdir(path)"
      ],
      "execution_count": null,
      "outputs": [
        {
          "output_type": "execute_result",
          "data": {
            "text/plain": [
              "[]"
            ]
          },
          "metadata": {
            "tags": []
          },
          "execution_count": 5
        }
      ]
    },
    {
      "cell_type": "code",
      "metadata": {
        "id": "su-nEG5ARn7u",
        "colab": {
          "base_uri": "https://localhost:8080/"
        },
        "outputId": "bcac6651-76a4-47de-ce82-21aa9ef3eb0d"
      },
      "source": [
        "import os\n",
        "path = \"drive/MyDrive/2dtodepth/outfile/\"\n",
        "os.listdir(path)"
      ],
      "execution_count": null,
      "outputs": [
        {
          "output_type": "execute_result",
          "data": {
            "text/plain": [
              "['12716266_1249344031747785_2909500124292307159_o.jpg',\n",
              " '12716266_1249344031747785_2909500124292307159_o1.jpg',\n",
              " '12716266_1249344031747785_2909500124292307159_o1_depth.jpg']"
            ]
          },
          "metadata": {
            "tags": []
          },
          "execution_count": 3
        }
      ]
    },
    {
      "cell_type": "markdown",
      "metadata": {
        "id": "1K7NudrPYSap"
      },
      "source": [
        "#Clear All Files in outfile if not needed else SKIP"
      ]
    },
    {
      "cell_type": "code",
      "metadata": {
        "id": "6X3QGDmtpYo0"
      },
      "source": [
        "import glob\n",
        "import os\n",
        "images = (glob.glob('drive/MyDrive/2dtodepth/infile/*'))\n",
        "for i in images:\n",
        "  os.remove(i)"
      ],
      "execution_count": null,
      "outputs": []
    },
    {
      "cell_type": "code",
      "metadata": {
        "id": "HqCxeWdOP7-J"
      },
      "source": [
        "import glob\n",
        "import os\n",
        "images = (glob.glob('drive/MyDrive/2dtodepth/outfile/*'))\n",
        "for i in images:\n",
        "  os.remove(i)"
      ],
      "execution_count": null,
      "outputs": []
    },
    {
      "cell_type": "markdown",
      "metadata": {
        "id": "Ae7pABd0Zv2H"
      },
      "source": [
        "#Note:- For best Result use single_view & Invert the color of the depth Map Image using paint or photoshop\n",
        "\n",
        "#Steps to get 3D effect of Image on Facebook\n",
        "- Download your (orginal image) + (depth map image)\n",
        "- Rename them as eg. \n",
        "  - image.jpg    \n",
        "  - image_depth.jpg\n",
        "- if Image is jpg and depth map is png it will still work and vice-versa.\n"
      ]
    },
    {
      "cell_type": "markdown",
      "metadata": {
        "id": "qRkRf4_lpIA2"
      },
      "source": [
        "#:::Dev Info:::\n",
        "#My Name:- Joel D'costa\n",
        "```\n",
        "Any questions regarding this document contact me on fb \n",
        "i.e. facebook.com/joel.dcosta.90\n",
        "```\n",
        "*Facebook 3D Page:-* https://www.facebook.com/cute3d.fb\n",
        "\n",
        "*BLOG:-* https://pysnakeblog.blogspot.com/"
      ]
    },
    {
      "cell_type": "code",
      "metadata": {
        "colab": {
          "base_uri": "https://localhost:8080/",
          "height": 104
        },
        "id": "cTmyTNF7pOiG",
        "outputId": "475a7995-545b-4786-f715-70679f7ee33d"
      },
      "source": [
        "%%html\n",
        "<a href=\"https://www.buymeacoffee.com/python4fun\" target=\"_blank\"><img src=\"https://img.buymeacoffee.com/button-api/?text=Buy me a Beer&emoji=🍺&slug=python4fun&button_colour=FFDD00&font_colour=000000&font_family=Cookie&outline_colour=000000&coffee_colour=ffffff\" width=20%></a>"
      ],
      "execution_count": null,
      "outputs": [
        {
          "output_type": "display_data",
          "data": {
            "text/html": [
              "<a href=\"https://www.buymeacoffee.com/python4fun\" target=\"_blank\"><img src=\"https://img.buymeacoffee.com/button-api/?text=Buy me a Beer&emoji=🍺&slug=python4fun&button_colour=FFDD00&font_colour=000000&font_family=Cookie&outline_colour=000000&coffee_colour=ffffff\" width=20%></a>"
            ],
            "text/plain": [
              "<IPython.core.display.HTML object>"
            ]
          },
          "metadata": {
            "tags": []
          }
        }
      ]
    }
  ]
}